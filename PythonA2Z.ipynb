{
  "nbformat": 4,
  "nbformat_minor": 0,
  "metadata": {
    "colab": {
      "provenance": [],
      "toc_visible": true,
      "authorship_tag": "ABX9TyP65J+laqZ0GLhu810OuBu1",
      "include_colab_link": true
    },
    "kernelspec": {
      "name": "python3",
      "display_name": "Python 3"
    },
    "language_info": {
      "name": "python"
    }
  },
  "cells": [
    {
      "cell_type": "markdown",
      "metadata": {
        "id": "view-in-github",
        "colab_type": "text"
      },
      "source": [
        "<a href=\"https://colab.research.google.com/github/hasnatosman/pyhton_crash_course/blob/master/PythonA2Z.ipynb\" target=\"_parent\"><img src=\"https://colab.research.google.com/assets/colab-badge.svg\" alt=\"Open In Colab\"/></a>"
      ]
    },
    {
      "cell_type": "markdown",
      "source": [
        "'''\n",
        "Python Comprehensive Tutorial: Basic to Advanced\n",
        "This script is a walkthrough of essential Python concepts with detailed inline explanations.\n",
        "You can run each section independently to learn incrementally.\n",
        "'''"
      ],
      "metadata": {
        "id": "VBBAqa2s7nx2"
      }
    },
    {
      "cell_type": "markdown",
      "source": [
        "# --- BASICS ---"
      ],
      "metadata": {
        "id": "c-B5yTBc7wRc"
      }
    },
    {
      "cell_type": "code",
      "execution_count": null,
      "metadata": {
        "colab": {
          "base_uri": "https://localhost:8080/"
        },
        "id": "uNjSertL6grq",
        "outputId": "19528f60-e4cd-4ae6-b905-eca57f0e33b4"
      },
      "outputs": [
        {
          "output_type": "stream",
          "name": "stdout",
          "text": [
            "Hello, World!\n"
          ]
        }
      ],
      "source": [
        "# 1. Hello World\n",
        "# The simplest Python program to print a message.\n",
        "print(\"Hello, World!\")  # Prints a greeting message"
      ]
    },
    {
      "cell_type": "code",
      "source": [
        "# 2. Variables and Data Types\n",
        "# Variables are containers for storing data values. Python is dynamically typed.\n",
        "integer_var = 42  # Integer: Whole number\n",
        "float_var = 3.14  # Float: Decimal number\n",
        "string_var = \"Python\"  # String: Sequence of characters\n",
        "boolean_var = True  # Boolean: True or False value\n",
        "print(f\"Integer: {integer_var}, Float: {float_var}, String: {string_var}, Boolean: {boolean_var}\")"
      ],
      "metadata": {
        "colab": {
          "base_uri": "https://localhost:8080/"
        },
        "id": "mzKJQ9rw71Ty",
        "outputId": "a1c829ca-3323-4b7b-8a34-7c3be7fed3a9"
      },
      "execution_count": null,
      "outputs": [
        {
          "output_type": "stream",
          "name": "stdout",
          "text": [
            "Integer: 42, Float: 3.14, String: Python, Boolean: True\n"
          ]
        }
      ]
    },
    {
      "cell_type": "code",
      "source": [
        "# 3. Input and Output\n",
        "# Input function allows user interaction, while print outputs to the console.\n",
        "name = input(\"Enter your name: \")  # Takes input from the user\n",
        "print(f\"Hello, {name}!\")  # Outputs a personalized greeting"
      ],
      "metadata": {
        "colab": {
          "base_uri": "https://localhost:8080/"
        },
        "id": "0uxsRhOr8Ag1",
        "outputId": "d65267e5-3ec4-4188-e003-c6f5b0fb641c"
      },
      "execution_count": null,
      "outputs": [
        {
          "output_type": "stream",
          "name": "stdout",
          "text": [
            "Enter your name: hasnat\n",
            "Hello, hasnat!\n"
          ]
        }
      ]
    },
    {
      "cell_type": "code",
      "source": [
        "# 4. Conditional Statements\n",
        "# Conditional statements let you execute code based on conditions.\n",
        "age = int(input(\"Enter your age: \"))  # Convert input to integer\n",
        "if age < 18:\n",
        "    print(\"You are a minor.\")  # Executes if age is less than 18\n",
        "elif age == 18:\n",
        "    print(\"You just became an adult!\")  # Executes if age equals 18\n",
        "else:\n",
        "    print(\"You are an adult.\")  # Executes if age is greater than 18"
      ],
      "metadata": {
        "colab": {
          "base_uri": "https://localhost:8080/"
        },
        "id": "pbFBoD_o8IBP",
        "outputId": "f418fc25-25ea-4c66-f86e-9028e7585fde"
      },
      "execution_count": null,
      "outputs": [
        {
          "output_type": "stream",
          "name": "stdout",
          "text": [
            "Enter your age: 22\n",
            "You are an adult.\n"
          ]
        }
      ]
    },
    {
      "cell_type": "code",
      "source": [
        "# 5. Loops\n",
        "# Loops allow repetitive execution of code blocks.\n",
        "\n",
        "# For loop iterates over a sequence.\n",
        "for i in range(5):  # range(5) generates numbers 0 to 4\n",
        "    print(f\"For loop iteration {i}\")\n",
        "\n",
        "# While loop continues until the condition becomes False.\n",
        "counter = 0\n",
        "while counter < 5:\n",
        "    print(f\"While loop iteration {counter}\")\n",
        "    counter += 1  # Increment counter to avoid infinite loop"
      ],
      "metadata": {
        "colab": {
          "base_uri": "https://localhost:8080/"
        },
        "id": "D5mZCq528RJZ",
        "outputId": "66c9ce73-6e9f-444f-99a1-e51c58eb9d7d"
      },
      "execution_count": null,
      "outputs": [
        {
          "output_type": "stream",
          "name": "stdout",
          "text": [
            "For loop iteration 0\n",
            "For loop iteration 1\n",
            "For loop iteration 2\n",
            "For loop iteration 3\n",
            "For loop iteration 4\n",
            "While loop iteration 0\n",
            "While loop iteration 1\n",
            "While loop iteration 2\n",
            "While loop iteration 3\n",
            "While loop iteration 4\n"
          ]
        }
      ]
    },
    {
      "cell_type": "markdown",
      "source": [
        "# --- INTERMEDIATE ---"
      ],
      "metadata": {
        "id": "JvPi3f9O8Xhw"
      }
    },
    {
      "cell_type": "code",
      "source": [
        "# 6. Functions and Arguments\n",
        "# Functions encapsulate reusable logic.\n",
        "def greet_user(username):\n",
        "    \"\"\"Function to greet a user by their name\"\"\"\n",
        "    return f\"Hello, {username}!\"  # Returns a greeting message\n",
        "\n",
        "greeting = greet_user(name)  # Call the function with user's name\n",
        "print(greeting)\n"
      ],
      "metadata": {
        "colab": {
          "base_uri": "https://localhost:8080/"
        },
        "id": "6d322Ss78VFq",
        "outputId": "68b555fd-91ea-47f1-8a86-7e36c96cbca0"
      },
      "execution_count": null,
      "outputs": [
        {
          "output_type": "stream",
          "name": "stdout",
          "text": [
            "Hello, hasnat!\n"
          ]
        }
      ]
    },
    {
      "cell_type": "code",
      "source": [
        "# 7. Lists and List Comprehensions\n",
        "# Lists store ordered collections of items.\n",
        "numbers = [1, 2, 3, 4, 5]  # Define a list\n",
        "squared = [x**2 for x in numbers]  # List comprehension to square each number\n",
        "print(f\"Original: {numbers}, Squared: {squared}\")"
      ],
      "metadata": {
        "colab": {
          "base_uri": "https://localhost:8080/"
        },
        "id": "DbR6TJjQ8fdj",
        "outputId": "71b22095-5cc8-4cb0-ac3f-947c2df82749"
      },
      "execution_count": null,
      "outputs": [
        {
          "output_type": "stream",
          "name": "stdout",
          "text": [
            "Original: [1, 2, 3, 4, 5], Squared: [1, 4, 9, 16, 25]\n"
          ]
        }
      ]
    },
    {
      "cell_type": "code",
      "source": [
        "# 8. Dictionaries\n",
        "# Dictionaries store key-value pairs.\n",
        "data = {\"name\": name, \"age\": age, \"is_adult\": age >= 18}  # Create a dictionary\n",
        "print(f\"Dictionary: {data}\")  # Display the dictionary"
      ],
      "metadata": {
        "colab": {
          "base_uri": "https://localhost:8080/"
        },
        "id": "-c5zha2H8h_g",
        "outputId": "0e6a027f-ab5b-4128-9ea7-b8be0b895abd"
      },
      "execution_count": null,
      "outputs": [
        {
          "output_type": "stream",
          "name": "stdout",
          "text": [
            "Dictionary: {'name': 'hasnat', 'age': 22, 'is_adult': True}\n"
          ]
        }
      ]
    },
    {
      "cell_type": "code",
      "source": [
        "# 9. Error Handling\n",
        "# Try-except blocks handle runtime errors gracefully.\n",
        "try:\n",
        "    division = 10 / int(input(\"Enter a divisor: \"))  # Attempt division\n",
        "    print(f\"Result: {division}\")\n",
        "except ZeroDivisionError:\n",
        "    print(\"You can't divide by zero!\")  # Handle division by zero\n",
        "except ValueError:\n",
        "    print(\"Please enter a valid number!\")  # Handle invalid input\n",
        "finally:\n",
        "    print(\"Execution complete.\")  # Executes regardless of exceptions"
      ],
      "metadata": {
        "colab": {
          "base_uri": "https://localhost:8080/"
        },
        "id": "4osujxgh8mKH",
        "outputId": "9f07b9ae-71b2-4d4d-bd22-47a1a8a2ee7c"
      },
      "execution_count": null,
      "outputs": [
        {
          "output_type": "stream",
          "name": "stdout",
          "text": [
            "Enter a divisor: 4\n",
            "Result: 2.5\n",
            "Execution complete.\n"
          ]
        }
      ]
    },
    {
      "cell_type": "markdown",
      "source": [
        "# --- ADVANCED ---"
      ],
      "metadata": {
        "id": "e73G_8jS8vg7"
      }
    },
    {
      "cell_type": "code",
      "source": [
        "# 10. Classes and Objects\n",
        "# Classes define blueprints for objects, encapsulating data and behavior.\n",
        "class Person:\n",
        "    def __init__(self, name, age):\n",
        "        self.name = name  # Initialize instance variable 'name'\n",
        "        self.age = age  # Initialize instance variable 'age'\n",
        "\n",
        "    def introduce(self):\n",
        "        \"\"\"Introduce the person\"\"\"\n",
        "        return f\"Hi, I'm {self.name} and I'm {self.age} years old.\"\n",
        "\n",
        "user = Person(name, age)  # Create an instance of the Person class\n",
        "print(user.introduce())  # Call the introduce method"
      ],
      "metadata": {
        "colab": {
          "base_uri": "https://localhost:8080/"
        },
        "id": "XvJaSa4L8si2",
        "outputId": "5f747588-915d-4967-b299-a48d08edb77a"
      },
      "execution_count": null,
      "outputs": [
        {
          "output_type": "stream",
          "name": "stdout",
          "text": [
            "Hi, I'm hasnat and I'm 22 years old.\n"
          ]
        }
      ]
    },
    {
      "cell_type": "code",
      "source": [
        "# 11. File Handling\n",
        "# File handling enables reading and writing to files.\n",
        "# Writing to a file\n",
        "with open(\"sample.txt\", \"w\") as file:  # Open file in write mode\n",
        "    file.write(\"This is a sample file.\")  # Write text to the file\n",
        "\n",
        "# Reading from a file\n",
        "with open(\"sample.txt\", \"r\") as file:  # Open file in read mode\n",
        "    content = file.read()  # Read file content\n",
        "    print(f\"File Content: {content}\")"
      ],
      "metadata": {
        "colab": {
          "base_uri": "https://localhost:8080/"
        },
        "id": "tuhsquiB88Hu",
        "outputId": "ef89658e-ce7a-4774-fb99-6088ea838f32"
      },
      "execution_count": null,
      "outputs": [
        {
          "output_type": "stream",
          "name": "stdout",
          "text": [
            "File Content: This is a sample file.\n"
          ]
        }
      ]
    },
    {
      "cell_type": "code",
      "source": [
        "# 12. Generators\n",
        "# Generators yield items one at a time, saving memory.\n",
        "def fibonacci(n):\n",
        "    \"\"\"Generator for Fibonacci sequence up to n terms\"\"\"\n",
        "    a, b = 0, 1\n",
        "    for _ in range(n):\n",
        "        yield a  # Yield the current value of 'a'\n",
        "        a, b = b, a + b  # Update 'a' and 'b'\n",
        "\n",
        "print(\"Fibonacci Sequence:\", list(fibonacci(10)))"
      ],
      "metadata": {
        "colab": {
          "base_uri": "https://localhost:8080/"
        },
        "id": "RKWnfNuw8__-",
        "outputId": "f299289a-759e-4e59-8e1c-ed3b358f8ad3"
      },
      "execution_count": null,
      "outputs": [
        {
          "output_type": "stream",
          "name": "stdout",
          "text": [
            "Fibonacci Sequence: [0, 1, 1, 2, 3, 5, 8, 13, 21, 34]\n"
          ]
        }
      ]
    },
    {
      "cell_type": "code",
      "source": [
        "# 13. Modules and Libraries\n",
        "# Python offers extensive standard and third-party libraries.\n",
        "import math  # Import math module\n",
        "print(f\"Square root of 16 is {math.sqrt(16)}\")  # Use sqrt function"
      ],
      "metadata": {
        "colab": {
          "base_uri": "https://localhost:8080/"
        },
        "id": "WqjM1hbp9DWu",
        "outputId": "5d24c777-ff20-411b-e83d-92007a0f9da1"
      },
      "execution_count": null,
      "outputs": [
        {
          "output_type": "stream",
          "name": "stdout",
          "text": [
            "Square root of 16 is 4.0\n"
          ]
        }
      ]
    },
    {
      "cell_type": "code",
      "source": [
        "# 14. Decorators\n",
        "# Decorators modify or enhance functions.\n",
        "def log_function_call(func):\n",
        "    \"\"\"Decorator to log function calls\"\"\"\n",
        "    def wrapper(*args, **kwargs):\n",
        "        print(f\"Calling function {func.__name__}\")  # Log function name\n",
        "        result = func(*args, **kwargs)  # Call the original function\n",
        "        print(f\"Function {func.__name__} finished\")  # Log completion\n",
        "        return result  # Return the result\n",
        "    return wrapper\n",
        "\n",
        "@log_function_call  # Apply decorator to function\n",
        "\n",
        "def multiply(a, b):\n",
        "    return a * b\n",
        "\n",
        "print(f\"Multiplication result: {multiply(4, 5)}\")"
      ],
      "metadata": {
        "colab": {
          "base_uri": "https://localhost:8080/"
        },
        "id": "Y1qRW2wA9IMX",
        "outputId": "28ee90f9-6f7d-44f2-80b8-e7db30299f33"
      },
      "execution_count": null,
      "outputs": [
        {
          "output_type": "stream",
          "name": "stdout",
          "text": [
            "Calling function multiply\n",
            "Function multiply finished\n",
            "Multiplication result: 20\n"
          ]
        }
      ]
    },
    {
      "cell_type": "code",
      "source": [
        "# 15. Multi-threading\n",
        "# Multi-threading enables concurrent execution of tasks.\n",
        "import threading\n",
        "\n",
        "def print_numbers():\n",
        "    \"\"\"Function to print numbers from 1 to 5\"\"\"\n",
        "    for i in range(1, 6):\n",
        "        print(f\"Number: {i}\")\n",
        "\n",
        "thread = threading.Thread(target=print_numbers)  # Create a thread\n",
        "thread.start()  # Start the thread\n",
        "thread.join()  # Wait for the thread to finish"
      ],
      "metadata": {
        "colab": {
          "base_uri": "https://localhost:8080/"
        },
        "id": "--S-x4SE9NC-",
        "outputId": "b09fa1e5-b0e8-41f0-e487-1cc69722e28c"
      },
      "execution_count": null,
      "outputs": [
        {
          "output_type": "stream",
          "name": "stdout",
          "text": [
            "Number: 1\n",
            "Number: 2\n",
            "Number: 3\n",
            "Number: 4\n",
            "Number: 5\n"
          ]
        }
      ]
    },
    {
      "cell_type": "code",
      "source": [
        "# 16. Python Sets\n",
        "# Sets store unique items and support mathematical operations like union and intersection.\n",
        "set_a = {1, 2, 3, 4}\n",
        "set_b = {3, 4, 5, 6}\n",
        "print(f\"Union: {set_a | set_b}, Intersection: {set_a & set_b}\")"
      ],
      "metadata": {
        "colab": {
          "base_uri": "https://localhost:8080/"
        },
        "id": "RWcIxeIg-kUr",
        "outputId": "d9aad7c4-e166-4de0-b305-aa35984cd66c"
      },
      "execution_count": null,
      "outputs": [
        {
          "output_type": "stream",
          "name": "stdout",
          "text": [
            "Union: {1, 2, 3, 4, 5, 6}, Intersection: {3, 4}\n"
          ]
        }
      ]
    },
    {
      "cell_type": "code",
      "source": [
        "# 17. Python Lambda Functions\n",
        "# Lambda functions are anonymous, single-line functions.\n",
        "sum_func = lambda x, y: x + y  # Define a lambda function\n",
        "print(f\"Sum using lambda: {sum_func(10, 15)}\")"
      ],
      "metadata": {
        "colab": {
          "base_uri": "https://localhost:8080/"
        },
        "id": "L2EPPnAF-oDc",
        "outputId": "9c6d6e34-7ce5-4603-9809-cfd47162ec8a"
      },
      "execution_count": null,
      "outputs": [
        {
          "output_type": "stream",
          "name": "stdout",
          "text": [
            "Sum using lambda: 25\n"
          ]
        }
      ]
    },
    {
      "cell_type": "code",
      "source": [
        "# 18. Python Regular Expressions\n",
        "# Regular expressions allow pattern matching for text processing.\n",
        "import re\n",
        "pattern = r\"\\bPython\\b\"\n",
        "text = \"I love Python programming. Python is fun.\"\n",
        "matches = re.findall(pattern, text)\n",
        "print(f\"Occurrences of 'Python': {len(matches)}\")"
      ],
      "metadata": {
        "colab": {
          "base_uri": "https://localhost:8080/"
        },
        "id": "ak0cHuYF-sKN",
        "outputId": "e7217f7b-0346-406b-cd6e-e92999545531"
      },
      "execution_count": null,
      "outputs": [
        {
          "output_type": "stream",
          "name": "stdout",
          "text": [
            "Occurrences of 'Python': 2\n"
          ]
        }
      ]
    },
    {
      "cell_type": "code",
      "source": [
        "# 19. Python JSON Handling\n",
        "# JSON (JavaScript Object Notation) is used for data exchange.\n",
        "import json\n",
        "data_dict = {\"name\": \"Alice\", \"age\": 25}\n",
        "data_json = json.dumps(data_dict)  # Convert dictionary to JSON string\n",
        "print(f\"JSON Data: {data_json}\")\n",
        "parsed_dict = json.loads(data_json)  # Convert JSON string back to dictionary\n",
        "print(f\"Parsed Data: {parsed_dict}\")"
      ],
      "metadata": {
        "colab": {
          "base_uri": "https://localhost:8080/"
        },
        "id": "4xm5_yBL-wME",
        "outputId": "3bbd781c-fba8-46da-9488-2185cc7f1b4a"
      },
      "execution_count": null,
      "outputs": [
        {
          "output_type": "stream",
          "name": "stdout",
          "text": [
            "JSON Data: {\"name\": \"Alice\", \"age\": 25}\n",
            "Parsed Data: {'name': 'Alice', 'age': 25}\n"
          ]
        }
      ]
    },
    {
      "cell_type": "code",
      "source": [
        "# 20. Python Date and Time\n",
        "# Python provides tools for working with dates and times.\n",
        "from datetime import datetime\n",
        "now = datetime.now()  # Get current date and time\n",
        "print(f\"Current Date and Time: {now.strftime('%Y-%m-%d %H:%M:%S')}\")"
      ],
      "metadata": {
        "colab": {
          "base_uri": "https://localhost:8080/"
        },
        "id": "_jy8okBr-ylv",
        "outputId": "ef143952-700d-48b7-800e-01e7f3c4d1d7"
      },
      "execution_count": null,
      "outputs": [
        {
          "output_type": "stream",
          "name": "stdout",
          "text": [
            "Current Date and Time: 2024-12-20 16:51:37\n"
          ]
        }
      ]
    },
    {
      "cell_type": "markdown",
      "source": [
        "**--- END ---**"
      ],
      "metadata": {
        "id": "8Bl_kdmF-3GV"
      }
    },
    {
      "cell_type": "code",
      "source": [],
      "metadata": {
        "id": "JLesuDrI-9Nw"
      },
      "execution_count": null,
      "outputs": []
    }
  ]
}